{
 "cells": [
  {
   "cell_type": "code",
   "execution_count": 1,
   "id": "2bb22440",
   "metadata": {},
   "outputs": [],
   "source": [
    "import pandas as pd\n",
    "import matplotlib.pyplot as plt\n",
    "import seaborn as sns"
   ]
  },
  {
   "cell_type": "code",
   "execution_count": 2,
   "id": "fa9d56cf",
   "metadata": {},
   "outputs": [
    {
     "data": {
      "text/html": [
       "<div>\n",
       "<style scoped>\n",
       "    .dataframe tbody tr th:only-of-type {\n",
       "        vertical-align: middle;\n",
       "    }\n",
       "\n",
       "    .dataframe tbody tr th {\n",
       "        vertical-align: top;\n",
       "    }\n",
       "\n",
       "    .dataframe thead th {\n",
       "        text-align: right;\n",
       "    }\n",
       "</style>\n",
       "<table border=\"1\" class=\"dataframe\">\n",
       "  <thead>\n",
       "    <tr style=\"text-align: right;\">\n",
       "      <th></th>\n",
       "      <th>Month</th>\n",
       "      <th>Zone - A</th>\n",
       "      <th>Zone - B</th>\n",
       "      <th>Zone - C</th>\n",
       "      <th>Zone - D</th>\n",
       "    </tr>\n",
       "  </thead>\n",
       "  <tbody>\n",
       "    <tr>\n",
       "      <th>0</th>\n",
       "      <td>Month - 1</td>\n",
       "      <td>1483525</td>\n",
       "      <td>1748451</td>\n",
       "      <td>1523308</td>\n",
       "      <td>2267260</td>\n",
       "    </tr>\n",
       "    <tr>\n",
       "      <th>1</th>\n",
       "      <td>Month - 2</td>\n",
       "      <td>1238428</td>\n",
       "      <td>1707421</td>\n",
       "      <td>2212113</td>\n",
       "      <td>1994341</td>\n",
       "    </tr>\n",
       "    <tr>\n",
       "      <th>2</th>\n",
       "      <td>Month - 3</td>\n",
       "      <td>1860771</td>\n",
       "      <td>2091194</td>\n",
       "      <td>1282374</td>\n",
       "      <td>1241600</td>\n",
       "    </tr>\n",
       "    <tr>\n",
       "      <th>3</th>\n",
       "      <td>Month - 4</td>\n",
       "      <td>1871571</td>\n",
       "      <td>1759617</td>\n",
       "      <td>2290580</td>\n",
       "      <td>2252681</td>\n",
       "    </tr>\n",
       "    <tr>\n",
       "      <th>4</th>\n",
       "      <td>Month - 5</td>\n",
       "      <td>1244922</td>\n",
       "      <td>1606010</td>\n",
       "      <td>1818334</td>\n",
       "      <td>1326062</td>\n",
       "    </tr>\n",
       "  </tbody>\n",
       "</table>\n",
       "</div>"
      ],
      "text/plain": [
       "       Month  Zone - A  Zone - B  Zone - C  Zone - D\n",
       "0  Month - 1   1483525   1748451   1523308   2267260\n",
       "1  Month - 2   1238428   1707421   2212113   1994341\n",
       "2  Month - 3   1860771   2091194   1282374   1241600\n",
       "3  Month - 4   1871571   1759617   2290580   2252681\n",
       "4  Month - 5   1244922   1606010   1818334   1326062"
      ]
     },
     "execution_count": 2,
     "metadata": {},
     "output_type": "execute_result"
    }
   ],
   "source": [
    "df = pd.read_csv(\"Sales_data_zone_wise.csv\")\n",
    "df.head()"
   ]
  },
  {
   "cell_type": "code",
   "execution_count": 3,
   "id": "fffe80f2",
   "metadata": {},
   "outputs": [
    {
     "data": {
      "text/plain": [
       "Month       0\n",
       "Zone - A    0\n",
       "Zone - B    0\n",
       "Zone - C    0\n",
       "Zone - D    0\n",
       "dtype: int64"
      ]
     },
     "execution_count": 3,
     "metadata": {},
     "output_type": "execute_result"
    }
   ],
   "source": [
    "df.isna().sum()"
   ]
  },
  {
   "cell_type": "code",
   "execution_count": 4,
   "id": "a92e3e7b",
   "metadata": {},
   "outputs": [
    {
     "data": {
      "text/html": [
       "<div>\n",
       "<style scoped>\n",
       "    .dataframe tbody tr th:only-of-type {\n",
       "        vertical-align: middle;\n",
       "    }\n",
       "\n",
       "    .dataframe tbody tr th {\n",
       "        vertical-align: top;\n",
       "    }\n",
       "\n",
       "    .dataframe thead th {\n",
       "        text-align: right;\n",
       "    }\n",
       "</style>\n",
       "<table border=\"1\" class=\"dataframe\">\n",
       "  <thead>\n",
       "    <tr style=\"text-align: right;\">\n",
       "      <th></th>\n",
       "      <th>Month</th>\n",
       "      <th>Zone - A</th>\n",
       "      <th>Zone - B</th>\n",
       "      <th>Zone - C</th>\n",
       "      <th>Zone - D</th>\n",
       "    </tr>\n",
       "  </thead>\n",
       "  <tbody>\n",
       "    <tr>\n",
       "      <th>0</th>\n",
       "      <td>Month - 1</td>\n",
       "      <td>1483525</td>\n",
       "      <td>1748451</td>\n",
       "      <td>1523308</td>\n",
       "      <td>2267260</td>\n",
       "    </tr>\n",
       "    <tr>\n",
       "      <th>1</th>\n",
       "      <td>Month - 2</td>\n",
       "      <td>1238428</td>\n",
       "      <td>1707421</td>\n",
       "      <td>2212113</td>\n",
       "      <td>1994341</td>\n",
       "    </tr>\n",
       "    <tr>\n",
       "      <th>2</th>\n",
       "      <td>Month - 3</td>\n",
       "      <td>1860771</td>\n",
       "      <td>2091194</td>\n",
       "      <td>1282374</td>\n",
       "      <td>1241600</td>\n",
       "    </tr>\n",
       "    <tr>\n",
       "      <th>3</th>\n",
       "      <td>Month - 4</td>\n",
       "      <td>1871571</td>\n",
       "      <td>1759617</td>\n",
       "      <td>2290580</td>\n",
       "      <td>2252681</td>\n",
       "    </tr>\n",
       "    <tr>\n",
       "      <th>4</th>\n",
       "      <td>Month - 5</td>\n",
       "      <td>1244922</td>\n",
       "      <td>1606010</td>\n",
       "      <td>1818334</td>\n",
       "      <td>1326062</td>\n",
       "    </tr>\n",
       "    <tr>\n",
       "      <th>5</th>\n",
       "      <td>Month - 6</td>\n",
       "      <td>1534390</td>\n",
       "      <td>1573128</td>\n",
       "      <td>1751825</td>\n",
       "      <td>2292044</td>\n",
       "    </tr>\n",
       "    <tr>\n",
       "      <th>6</th>\n",
       "      <td>Month - 7</td>\n",
       "      <td>1820196</td>\n",
       "      <td>1992031</td>\n",
       "      <td>1786826</td>\n",
       "      <td>1688055</td>\n",
       "    </tr>\n",
       "    <tr>\n",
       "      <th>7</th>\n",
       "      <td>Month - 8</td>\n",
       "      <td>1625696</td>\n",
       "      <td>1665534</td>\n",
       "      <td>2161754</td>\n",
       "      <td>2363315</td>\n",
       "    </tr>\n",
       "    <tr>\n",
       "      <th>8</th>\n",
       "      <td>Month - 9</td>\n",
       "      <td>1652644</td>\n",
       "      <td>1873402</td>\n",
       "      <td>1755290</td>\n",
       "      <td>1422059</td>\n",
       "    </tr>\n",
       "    <tr>\n",
       "      <th>9</th>\n",
       "      <td>Month - 10</td>\n",
       "      <td>1852450</td>\n",
       "      <td>1913059</td>\n",
       "      <td>1754314</td>\n",
       "      <td>1608387</td>\n",
       "    </tr>\n",
       "    <tr>\n",
       "      <th>10</th>\n",
       "      <td>Month - 11</td>\n",
       "      <td>2004480</td>\n",
       "      <td>1740365</td>\n",
       "      <td>1317869</td>\n",
       "      <td>1970069</td>\n",
       "    </tr>\n",
       "    <tr>\n",
       "      <th>11</th>\n",
       "      <td>Month - 12</td>\n",
       "      <td>1537539</td>\n",
       "      <td>1875658</td>\n",
       "      <td>1237722</td>\n",
       "      <td>1460165</td>\n",
       "    </tr>\n",
       "    <tr>\n",
       "      <th>12</th>\n",
       "      <td>Month - 13</td>\n",
       "      <td>1254939</td>\n",
       "      <td>1588473</td>\n",
       "      <td>1348629</td>\n",
       "      <td>1733383</td>\n",
       "    </tr>\n",
       "    <tr>\n",
       "      <th>13</th>\n",
       "      <td>Month - 14</td>\n",
       "      <td>1821799</td>\n",
       "      <td>1844081</td>\n",
       "      <td>1617376</td>\n",
       "      <td>1872259</td>\n",
       "    </tr>\n",
       "    <tr>\n",
       "      <th>14</th>\n",
       "      <td>Month - 15</td>\n",
       "      <td>1128185</td>\n",
       "      <td>1804613</td>\n",
       "      <td>1767047</td>\n",
       "      <td>1234311</td>\n",
       "    </tr>\n",
       "    <tr>\n",
       "      <th>15</th>\n",
       "      <td>Month - 16</td>\n",
       "      <td>1491534</td>\n",
       "      <td>1542053</td>\n",
       "      <td>1882159</td>\n",
       "      <td>1590913</td>\n",
       "    </tr>\n",
       "    <tr>\n",
       "      <th>16</th>\n",
       "      <td>Month - 17</td>\n",
       "      <td>1182110</td>\n",
       "      <td>1552388</td>\n",
       "      <td>2234469</td>\n",
       "      <td>2180416</td>\n",
       "    </tr>\n",
       "    <tr>\n",
       "      <th>17</th>\n",
       "      <td>Month - 18</td>\n",
       "      <td>1770324</td>\n",
       "      <td>1699213</td>\n",
       "      <td>1249821</td>\n",
       "      <td>2364132</td>\n",
       "    </tr>\n",
       "    <tr>\n",
       "      <th>18</th>\n",
       "      <td>Month - 19</td>\n",
       "      <td>1181635</td>\n",
       "      <td>1959268</td>\n",
       "      <td>2009168</td>\n",
       "      <td>1821882</td>\n",
       "    </tr>\n",
       "    <tr>\n",
       "      <th>19</th>\n",
       "      <td>Month - 20</td>\n",
       "      <td>1305972</td>\n",
       "      <td>1559670</td>\n",
       "      <td>2107949</td>\n",
       "      <td>2151008</td>\n",
       "    </tr>\n",
       "    <tr>\n",
       "      <th>20</th>\n",
       "      <td>Month - 21</td>\n",
       "      <td>1570152</td>\n",
       "      <td>2013615</td>\n",
       "      <td>1540016</td>\n",
       "      <td>2265814</td>\n",
       "    </tr>\n",
       "    <tr>\n",
       "      <th>21</th>\n",
       "      <td>Month - 22</td>\n",
       "      <td>1481619</td>\n",
       "      <td>1527574</td>\n",
       "      <td>2255729</td>\n",
       "      <td>2295079</td>\n",
       "    </tr>\n",
       "    <tr>\n",
       "      <th>22</th>\n",
       "      <td>Month - 23</td>\n",
       "      <td>1887694</td>\n",
       "      <td>1992155</td>\n",
       "      <td>1348387</td>\n",
       "      <td>1459683</td>\n",
       "    </tr>\n",
       "    <tr>\n",
       "      <th>23</th>\n",
       "      <td>Month - 24</td>\n",
       "      <td>1880820</td>\n",
       "      <td>1752873</td>\n",
       "      <td>2098463</td>\n",
       "      <td>2052591</td>\n",
       "    </tr>\n",
       "    <tr>\n",
       "      <th>24</th>\n",
       "      <td>Month - 25</td>\n",
       "      <td>1256333</td>\n",
       "      <td>1622671</td>\n",
       "      <td>1521792</td>\n",
       "      <td>1695122</td>\n",
       "    </tr>\n",
       "    <tr>\n",
       "      <th>25</th>\n",
       "      <td>Month - 26</td>\n",
       "      <td>1422853</td>\n",
       "      <td>1715465</td>\n",
       "      <td>1853636</td>\n",
       "      <td>1520406</td>\n",
       "    </tr>\n",
       "    <tr>\n",
       "      <th>26</th>\n",
       "      <td>Month - 27</td>\n",
       "      <td>1384426</td>\n",
       "      <td>1983163</td>\n",
       "      <td>1611169</td>\n",
       "      <td>1289160</td>\n",
       "    </tr>\n",
       "    <tr>\n",
       "      <th>27</th>\n",
       "      <td>Month - 28</td>\n",
       "      <td>1616640</td>\n",
       "      <td>1547991</td>\n",
       "      <td>2128022</td>\n",
       "      <td>2178267</td>\n",
       "    </tr>\n",
       "    <tr>\n",
       "      <th>28</th>\n",
       "      <td>Month - 29</td>\n",
       "      <td>1310654</td>\n",
       "      <td>1660092</td>\n",
       "      <td>1947119</td>\n",
       "      <td>1854412</td>\n",
       "    </tr>\n",
       "  </tbody>\n",
       "</table>\n",
       "</div>"
      ],
      "text/plain": [
       "         Month  Zone - A  Zone - B  Zone - C  Zone - D\n",
       "0    Month - 1   1483525   1748451   1523308   2267260\n",
       "1    Month - 2   1238428   1707421   2212113   1994341\n",
       "2    Month - 3   1860771   2091194   1282374   1241600\n",
       "3    Month - 4   1871571   1759617   2290580   2252681\n",
       "4    Month - 5   1244922   1606010   1818334   1326062\n",
       "5    Month - 6   1534390   1573128   1751825   2292044\n",
       "6    Month - 7   1820196   1992031   1786826   1688055\n",
       "7    Month - 8   1625696   1665534   2161754   2363315\n",
       "8    Month - 9   1652644   1873402   1755290   1422059\n",
       "9   Month - 10   1852450   1913059   1754314   1608387\n",
       "10  Month - 11   2004480   1740365   1317869   1970069\n",
       "11  Month - 12   1537539   1875658   1237722   1460165\n",
       "12  Month - 13   1254939   1588473   1348629   1733383\n",
       "13  Month - 14   1821799   1844081   1617376   1872259\n",
       "14  Month - 15   1128185   1804613   1767047   1234311\n",
       "15  Month - 16   1491534   1542053   1882159   1590913\n",
       "16  Month - 17   1182110   1552388   2234469   2180416\n",
       "17  Month - 18   1770324   1699213   1249821   2364132\n",
       "18  Month - 19   1181635   1959268   2009168   1821882\n",
       "19  Month - 20   1305972   1559670   2107949   2151008\n",
       "20  Month - 21   1570152   2013615   1540016   2265814\n",
       "21  Month - 22   1481619   1527574   2255729   2295079\n",
       "22  Month - 23   1887694   1992155   1348387   1459683\n",
       "23  Month - 24   1880820   1752873   2098463   2052591\n",
       "24  Month - 25   1256333   1622671   1521792   1695122\n",
       "25  Month - 26   1422853   1715465   1853636   1520406\n",
       "26  Month - 27   1384426   1983163   1611169   1289160\n",
       "27  Month - 28   1616640   1547991   2128022   2178267\n",
       "28  Month - 29   1310654   1660092   1947119   1854412"
      ]
     },
     "execution_count": 4,
     "metadata": {},
     "output_type": "execute_result"
    }
   ],
   "source": [
    "df"
   ]
  },
  {
   "cell_type": "markdown",
   "id": "e2294473",
   "metadata": {},
   "source": [
    "# <font style =\"color:#ff6600; font-size:24px\" >Mean sales generated by each zone</font>"
   ]
  },
  {
   "cell_type": "code",
   "execution_count": 5,
   "id": "76446efd",
   "metadata": {
    "scrolled": true
   },
   "outputs": [
    {
     "data": {
      "text/plain": [
       "Zone - A    1.540493e+06\n",
       "Zone - B    1.755560e+06\n",
       "Zone - C    1.772871e+06\n",
       "Zone - D    1.842927e+06\n",
       "dtype: float64"
      ]
     },
     "execution_count": 5,
     "metadata": {},
     "output_type": "execute_result"
    }
   ],
   "source": [
    "df.mean(numeric_only=True)"
   ]
  },
  {
   "cell_type": "code",
   "execution_count": 6,
   "id": "dadcfadd",
   "metadata": {},
   "outputs": [
    {
     "data": {
      "text/plain": [
       "Text(0.5, 1.0, 'Mean Sales of Zones')"
      ]
     },
     "execution_count": 6,
     "metadata": {},
     "output_type": "execute_result"
    },
    {
     "data": {
      "image/png": "[encoded data removed]",
      "text/plain": [
       "<Figure size 432x288 with 1 Axes>"
      ]
     },
     "metadata": {
      "needs_background": "light"
     },
     "output_type": "display_data"
    }
   ],
   "source": [
    "plt.figure()\n",
    "df.mean(numeric_only=True).plot(kind=\"bar\", color=\"#ff6a00\")\n",
    "plt.title(\"Mean Sales of Zones\",fontsize=18)"
   ]
  },
  {
   "cell_type": "code",
   "execution_count": 7,
   "id": "0b7b05dc",
   "metadata": {},
   "outputs": [
    {
     "data": {
      "text/plain": [
       "'\\nZone D has got the highest mean sales. Zone A has got the lowest mean sales.\\nZone B and Zone C has performed almost equally and they are some what closer to Zone D\\n'"
      ]
     },
     "execution_count": 7,
     "metadata": {},
     "output_type": "execute_result"
    }
   ],
   "source": [
    "\"\"\"\n",
    "Zone D has got the highest mean sales. Zone A has got the lowest mean sales.\n",
    "Zone B and Zone C has performed almost equally and they are some what closer to Zone D\n",
    "\"\"\""
   ]
  },
  {
   "cell_type": "markdown",
   "id": "b01358be",
   "metadata": {},
   "source": [
    "# <font style =\"color:#ad21ed; font-size:24px\" >Total sales generated by all the zones for each month</font>"
   ]
  },
  {
   "cell_type": "code",
   "execution_count": 8,
   "id": "a2699b6c",
   "metadata": {},
   "outputs": [
    {
     "data": {
      "text/html": [
       "<div>\n",
       "<style scoped>\n",
       "    .dataframe tbody tr th:only-of-type {\n",
       "        vertical-align: middle;\n",
       "    }\n",
       "\n",
       "    .dataframe tbody tr th {\n",
       "        vertical-align: top;\n",
       "    }\n",
       "\n",
       "    .dataframe thead th {\n",
       "        text-align: right;\n",
       "    }\n",
       "</style>\n",
       "<table border=\"1\" class=\"dataframe\">\n",
       "  <thead>\n",
       "    <tr style=\"text-align: right;\">\n",
       "      <th></th>\n",
       "      <th>Month</th>\n",
       "      <th>Zone - A</th>\n",
       "      <th>Zone - B</th>\n",
       "      <th>Zone - C</th>\n",
       "      <th>Zone - D</th>\n",
       "      <th>Total</th>\n",
       "    </tr>\n",
       "  </thead>\n",
       "  <tbody>\n",
       "    <tr>\n",
       "      <th>0</th>\n",
       "      <td>Month - 1</td>\n",
       "      <td>1483525</td>\n",
       "      <td>1748451</td>\n",
       "      <td>1523308</td>\n",
       "      <td>2267260</td>\n",
       "      <td>7022544</td>\n",
       "    </tr>\n",
       "    <tr>\n",
       "      <th>1</th>\n",
       "      <td>Month - 2</td>\n",
       "      <td>1238428</td>\n",
       "      <td>1707421</td>\n",
       "      <td>2212113</td>\n",
       "      <td>1994341</td>\n",
       "      <td>7152303</td>\n",
       "    </tr>\n",
       "    <tr>\n",
       "      <th>2</th>\n",
       "      <td>Month - 3</td>\n",
       "      <td>1860771</td>\n",
       "      <td>2091194</td>\n",
       "      <td>1282374</td>\n",
       "      <td>1241600</td>\n",
       "      <td>6475939</td>\n",
       "    </tr>\n",
       "    <tr>\n",
       "      <th>3</th>\n",
       "      <td>Month - 4</td>\n",
       "      <td>1871571</td>\n",
       "      <td>1759617</td>\n",
       "      <td>2290580</td>\n",
       "      <td>2252681</td>\n",
       "      <td>8174449</td>\n",
       "    </tr>\n",
       "    <tr>\n",
       "      <th>4</th>\n",
       "      <td>Month - 5</td>\n",
       "      <td>1244922</td>\n",
       "      <td>1606010</td>\n",
       "      <td>1818334</td>\n",
       "      <td>1326062</td>\n",
       "      <td>5995328</td>\n",
       "    </tr>\n",
       "  </tbody>\n",
       "</table>\n",
       "</div>"
      ],
      "text/plain": [
       "       Month  Zone - A  Zone - B  Zone - C  Zone - D    Total\n",
       "0  Month - 1   1483525   1748451   1523308   2267260  7022544\n",
       "1  Month - 2   1238428   1707421   2212113   1994341  7152303\n",
       "2  Month - 3   1860771   2091194   1282374   1241600  6475939\n",
       "3  Month - 4   1871571   1759617   2290580   2252681  8174449\n",
       "4  Month - 5   1244922   1606010   1818334   1326062  5995328"
      ]
     },
     "execution_count": 8,
     "metadata": {},
     "output_type": "execute_result"
    }
   ],
   "source": [
    "df['Total']=df.iloc[:,1:5].sum(axis=1)\n",
    "df.head()"
   ]
  },
  {
   "cell_type": "code",
   "execution_count": 9,
   "id": "292c6c9d",
   "metadata": {},
   "outputs": [
    {
     "data": {
      "text/plain": [
       "Text(0.5, 1.0, 'Total sales for each month')"
      ]
     },
     "execution_count": 9,
     "metadata": {},
     "output_type": "execute_result"
    },
    {
     "data": {
      "image/png": "[encoded data removed]",
      "text/plain": [
       "<Figure size 2520x360 with 1 Axes>"
      ]
     },
     "metadata": {
      "needs_background": "light"
     },
     "output_type": "display_data"
    }
   ],
   "source": [
    "plt.figure(figsize=(35,5))\n",
    "sns.lineplot(x = \"Month\", y =\"Total\",data =df)\n",
    "plt.title(\"Total sales for each month\",fontsize=30)\n"
   ]
  },
  {
   "cell_type": "code",
   "execution_count": 10,
   "id": "bdfab4bc",
   "metadata": {},
   "outputs": [
    {
     "data": {
      "text/plain": [
       "Text(0.5, 1.0, 'Total sales for each month')"
      ]
     },
     "execution_count": 10,
     "metadata": {},
     "output_type": "execute_result"
    },
    {
     "data": {
      "image/png": "[encoded data removed]",
      "text/plain": [
       "<Figure size 2160x432 with 1 Axes>"
      ]
     },
     "metadata": {
      "needs_background": "light"
     },
     "output_type": "display_data"
    }
   ],
   "source": [
    "plt.figure(figsize=(30,6))\n",
    "sns.barplot(x = \"Month\", y =\"Total\",data =df)\n",
    "plt.title(\"Total sales for each month\",fontsize=36)\n"
   ]
  },
  {
   "cell_type": "code",
   "execution_count": 11,
   "id": "1b62a2fa",
   "metadata": {},
   "outputs": [
    {
     "data": {
      "text/html": [
       "<div>\n",
       "<style scoped>\n",
       "    .dataframe tbody tr th:only-of-type {\n",
       "        vertical-align: middle;\n",
       "    }\n",
       "\n",
       "    .dataframe tbody tr th {\n",
       "        vertical-align: top;\n",
       "    }\n",
       "\n",
       "    .dataframe thead th {\n",
       "        text-align: right;\n",
       "    }\n",
       "</style>\n",
       "<table border=\"1\" class=\"dataframe\">\n",
       "  <thead>\n",
       "    <tr style=\"text-align: right;\">\n",
       "      <th></th>\n",
       "      <th>Month</th>\n",
       "      <th>Zone - A</th>\n",
       "      <th>Zone - B</th>\n",
       "      <th>Zone - C</th>\n",
       "      <th>Zone - D</th>\n",
       "      <th>Total</th>\n",
       "    </tr>\n",
       "  </thead>\n",
       "  <tbody>\n",
       "    <tr>\n",
       "      <th>3</th>\n",
       "      <td>Month - 4</td>\n",
       "      <td>1871571</td>\n",
       "      <td>1759617</td>\n",
       "      <td>2290580</td>\n",
       "      <td>2252681</td>\n",
       "      <td>8174449</td>\n",
       "    </tr>\n",
       "  </tbody>\n",
       "</table>\n",
       "</div>"
      ],
      "text/plain": [
       "       Month  Zone - A  Zone - B  Zone - C  Zone - D    Total\n",
       "3  Month - 4   1871571   1759617   2290580   2252681  8174449"
      ]
     },
     "execution_count": 11,
     "metadata": {},
     "output_type": "execute_result"
    }
   ],
   "source": [
    "df[df.Total == df.Total.max()]"
   ]
  },
  {
   "cell_type": "code",
   "execution_count": 12,
   "id": "1a5a7249",
   "metadata": {},
   "outputs": [
    {
     "data": {
      "text/html": [
       "<div>\n",
       "<style scoped>\n",
       "    .dataframe tbody tr th:only-of-type {\n",
       "        vertical-align: middle;\n",
       "    }\n",
       "\n",
       "    .dataframe tbody tr th {\n",
       "        vertical-align: top;\n",
       "    }\n",
       "\n",
       "    .dataframe thead th {\n",
       "        text-align: right;\n",
       "    }\n",
       "</style>\n",
       "<table border=\"1\" class=\"dataframe\">\n",
       "  <thead>\n",
       "    <tr style=\"text-align: right;\">\n",
       "      <th></th>\n",
       "      <th>Month</th>\n",
       "      <th>Zone - A</th>\n",
       "      <th>Zone - B</th>\n",
       "      <th>Zone - C</th>\n",
       "      <th>Zone - D</th>\n",
       "      <th>Total</th>\n",
       "    </tr>\n",
       "  </thead>\n",
       "  <tbody>\n",
       "    <tr>\n",
       "      <th>12</th>\n",
       "      <td>Month - 13</td>\n",
       "      <td>1254939</td>\n",
       "      <td>1588473</td>\n",
       "      <td>1348629</td>\n",
       "      <td>1733383</td>\n",
       "      <td>5925424</td>\n",
       "    </tr>\n",
       "  </tbody>\n",
       "</table>\n",
       "</div>"
      ],
      "text/plain": [
       "         Month  Zone - A  Zone - B  Zone - C  Zone - D    Total\n",
       "12  Month - 13   1254939   1588473   1348629   1733383  5925424"
      ]
     },
     "execution_count": 12,
     "metadata": {},
     "output_type": "execute_result"
    }
   ],
   "source": [
    "df[df.Total == df.Total.min()]"
   ]
  },
  {
   "cell_type": "code",
   "execution_count": 13,
   "id": "52bb2b33",
   "metadata": {},
   "outputs": [],
   "source": [
    "# Month 4 is the best performing and month 13 is least performing"
   ]
  },
  {
   "cell_type": "markdown",
   "id": "636166ae",
   "metadata": {},
   "source": [
    "# <font style =\"color:#ff4db8; font-size:24px\" >Check whether all the zones generate the same amount of sales</font>"
   ]
  },
  {
   "cell_type": "code",
   "execution_count": 14,
   "id": "fde68951",
   "metadata": {},
   "outputs": [],
   "source": [
    "import statsmodels.api as sm\n",
    "from statsmodels.formula.api import ols"
   ]
  },
  {
   "cell_type": "code",
   "execution_count": 19,
   "id": "1944692e",
   "metadata": {},
   "outputs": [],
   "source": [
    "#model = ols(\"Zone - A ~ Zone - B ~ Zone - C ~ Zone - D\",data = df).fit()"
   ]
  },
  {
   "cell_type": "code",
   "execution_count": 18,
   "id": "41cf3e37",
   "metadata": {},
   "outputs": [],
   "source": [
    "from scipy.stats import f_oneway"
   ]
  },
  {
   "cell_type": "code",
   "execution_count": null,
   "id": "caaf7968",
   "metadata": {},
   "outputs": [],
   "source": [
    "\"\"\"\n",
    "H0: Sales generated by different zones are same\n",
    "H1: Sales generated by different zones are different\n",
    "\"\"\""
   ]
  },
  {
   "cell_type": "code",
   "execution_count": 20,
   "id": "e45097ea",
   "metadata": {},
   "outputs": [
    {
     "data": {
      "text/plain": [
       "F_onewayResult(statistic=5.672056106843581, pvalue=0.0011827601694503335)"
      ]
     },
     "execution_count": 20,
     "metadata": {},
     "output_type": "execute_result"
    }
   ],
   "source": [
    "f_oneway(df[\"Zone - A\"],df[\"Zone - B\"],df[\"Zone - C\"],df[\"Zone - D\"])"
   ]
  },
  {
   "cell_type": "code",
   "execution_count": null,
   "id": "49bb6197",
   "metadata": {},
   "outputs": [],
   "source": [
    "\"\"\"\n",
    "\n",
    "Since P-Value we got 0.00118 is less than 0.05. So we can conclude that Sales generated by \n",
    "different zones are also different\n",
    "\n",
    "\n",
    "\"\"\""
   ]
  },
  {
   "cell_type": "code",
   "execution_count": null,
   "id": "485a40fc",
   "metadata": {},
   "outputs": [],
   "source": []
  }
 ],
 "metadata": {
  "kernelspec": {
   "display_name": "Python 3 (ipykernel)",
   "language": "python",
   "name": "python3"
  },
  "language_info": {
   "codemirror_mode": {
    "name": "ipython",
    "version": 3
   },
   "file_extension": ".py",
   "mimetype": "text/x-python",
   "name": "python",
   "nbconvert_exporter": "python",
   "pygments_lexer": "ipython3",
   "version": "3.8.12"
  }
 },
 "nbformat": 4,
 "nbformat_minor": 5
}
